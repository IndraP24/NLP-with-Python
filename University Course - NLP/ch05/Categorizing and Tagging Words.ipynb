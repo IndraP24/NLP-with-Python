{
 "cells": [
  {
   "cell_type": "markdown",
   "metadata": {},
   "source": [
    "# Tutorial 3"
   ]
  },
  {
   "cell_type": "markdown",
   "metadata": {},
   "source": [
    "### 1. Implement and study the code and data given in [https://www.nltk.org/book/ch05.html](https://www.nltk.org/book/ch05.html) and prepare a report/summary using code segments and brief about that."
   ]
  },
  {
   "cell_type": "code",
   "execution_count": 3,
   "metadata": {},
   "outputs": [],
   "source": [
    "from nltk import *\n",
    "import nltk"
   ]
  },
  {
   "cell_type": "markdown",
   "metadata": {},
   "source": [
    "### Tagging is the 2nd step in a typical NLP pipeline after tokenization. It is the process of classifying words into their parts of speech and labeling them accordingly. The report is mainly focused on exploiting tags and tagging text automatically\n",
    "\n",
    "## 1. Using a tagger\n",
    "### A POS-tagger processes a sequence of words and attaches a part of speech tag to each word."
   ]
  },
  {
   "cell_type": "code",
   "execution_count": 4,
   "metadata": {},
   "outputs": [
    {
     "data": {
      "text/plain": [
       "[('Now', 'RB'),\n",
       " (',', ','),\n",
       " ('let', 'VB'),\n",
       " (\"'s\", 'POS'),\n",
       " ('discuss', 'VB'),\n",
       " ('something', 'NN'),\n",
       " ('about', 'IN'),\n",
       " ('Tagging', 'VBG')]"
      ]
     },
     "execution_count": 4,
     "metadata": {},
     "output_type": "execute_result"
    }
   ],
   "source": [
    "text = word_tokenize(\"Now, let's discuss something about Tagging\")\n",
    "nltk.pos_tag(text)"
   ]
  },
  {
   "cell_type": "markdown",
   "metadata": {},
   "source": [
    "### The classification showed above are as follows\n",
    "### 1. RB:\tadverb (occasionally, swiftly)\n",
    "### 2. VB:\tverb (ask)\n",
    "### 3. POS:\tpossessive ending (parent\\ ‘s)\n",
    "### 4. NN:\tnoun, singular (cat, tree)\n",
    "### 5. IN:\tpreposition/subordinating conjunction\n",
    "### 6. VBG:\tverb gerund (judging)\n",
    "\n",
    "### These are some examples of NLTK POS tags. NLTK POS tagger is used to assign grammatical information of each word of the sentence"
   ]
  },
  {
   "cell_type": "markdown",
   "metadata": {},
   "source": [
    "## 2. Tagged Corpora\n",
    "\n",
    "### 2.1 Tagged tokens are represented using a tuple consisting of the token and the tag."
   ]
  },
  {
   "cell_type": "code",
   "execution_count": 5,
   "metadata": {},
   "outputs": [
    {
     "data": {
      "text/plain": [
       "('Hello', 'NN')"
      ]
     },
     "execution_count": 5,
     "metadata": {},
     "output_type": "execute_result"
    }
   ],
   "source": [
    "nltk.tag.str2tuple('Hello/NN')"
   ]
  },
  {
   "cell_type": "markdown",
   "metadata": {},
   "source": [
    "### "
   ]
  },
  {
   "cell_type": "markdown",
   "metadata": {},
   "source": [
    "## 2. Also explain (brief introduction and implemtation) any real time application of Tagging using any of the NLP application as the basis."
   ]
  }
 ],
 "metadata": {
  "interpreter": {
   "hash": "f5bfe08cafb8661236a7befd56aa2bcba1c529c02a4d80aab94c3612e99466a9"
  },
  "kernelspec": {
   "display_name": "Python 3.7.11 64-bit ('NLP': conda)",
   "language": "python",
   "name": "python3"
  },
  "language_info": {
   "codemirror_mode": {
    "name": "ipython",
    "version": 3
   },
   "file_extension": ".py",
   "mimetype": "text/x-python",
   "name": "python",
   "nbconvert_exporter": "python",
   "pygments_lexer": "ipython3",
   "version": "3.7.11"
  },
  "orig_nbformat": 4
 },
 "nbformat": 4,
 "nbformat_minor": 2
}
